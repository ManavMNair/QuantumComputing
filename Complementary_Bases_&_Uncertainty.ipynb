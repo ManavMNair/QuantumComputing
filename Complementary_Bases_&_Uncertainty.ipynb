{
  "nbformat": 4,
  "nbformat_minor": 0,
  "metadata": {
    "colab": {
      "provenance": [],
      "authorship_tag": "ABX9TyP2oARzh3iLAS1apyVF316B",
      "include_colab_link": true
    },
    "kernelspec": {
      "name": "python3",
      "display_name": "Python 3"
    },
    "language_info": {
      "name": "python"
    }
  },
  "cells": [
    {
      "cell_type": "markdown",
      "metadata": {
        "id": "view-in-github",
        "colab_type": "text"
      },
      "source": [
        "<a href=\"https://colab.research.google.com/github/ManavMNair/QuantumComputing/blob/main/Complementary_Bases_%26_Uncertainty.ipynb\" target=\"_parent\"><img src=\"https://colab.research.google.com/assets/colab-badge.svg\" alt=\"Open In Colab\"/></a>"
      ]
    },
    {
      "cell_type": "markdown",
      "source": [
        "#Complementary Bases & Uncertainty\n",
        "\n",
        "##Purpose:\n",
        "This notebook demonstrates the concept of complementary measurements (Pauli Z and X) and the uncertainty trade-off in quantum mechanics using Qiskit simulations.\n",
        "\n",
        "##What it does:\n",
        "\n",
        "- Prepares quantum states\n",
        "∣+⟩ and\n",
        "∣\n",
        "0\n",
        "⟩\n",
        ".\n",
        "\n",
        "- Measures each state in the Z basis and the X basis.\n",
        "\n",
        "- Calculates measurement probabilities, standard deviations, and their product.\n",
        "\n",
        "- Summarizes results in tables and provides a short interpretation of the uncertainty trade-off.\n",
        "\n",
        "##How to run:\n",
        "\n",
        "- Open the notebook in Google Colab or Jupyter.\n",
        "\n",
        "- Install dependencies (Qiskit and Qiskit Aer).\n",
        "\n",
        "- Run the cells in order.\n",
        "\n",
        "- The notebook will output measurement counts, probabilities, histograms, and calculated uncertainties.\n",
        "\n",
        "###Key takeaway:\n",
        "The results show that when a state is certain in one basis, it is uncertain in the complementary basis — illustrating the quantum uncertainty trade-off."
      ],
      "metadata": {
        "id": "5YlOQxPO-ReW"
      }
    },
    {
      "cell_type": "markdown",
      "source": [
        "#Install required packages"
      ],
      "metadata": {
        "id": "v-SWYH7R-4Lb"
      }
    },
    {
      "cell_type": "code",
      "source": [
        "!pip install qiskit qiskit_aer qiskit[visualization]"
      ],
      "metadata": {
        "colab": {
          "base_uri": "https://localhost:8080/"
        },
        "collapsed": true,
        "id": "kcUD-m4K_kiB",
        "outputId": "a90d4cc3-d246-4560-b163-a07bbbfcc1b4"
      },
      "execution_count": null,
      "outputs": [
        {
          "output_type": "stream",
          "name": "stdout",
          "text": [
            "Requirement already satisfied: qiskit in /usr/local/lib/python3.12/dist-packages (2.1.2)\n",
            "Requirement already satisfied: qiskit_aer in /usr/local/lib/python3.12/dist-packages (0.17.1)\n",
            "Requirement already satisfied: rustworkx>=0.15.0 in /usr/local/lib/python3.12/dist-packages (from qiskit) (0.17.1)\n",
            "Requirement already satisfied: numpy<3,>=1.17 in /usr/local/lib/python3.12/dist-packages (from qiskit) (2.0.2)\n",
            "Requirement already satisfied: scipy>=1.5 in /usr/local/lib/python3.12/dist-packages (from qiskit) (1.16.1)\n",
            "Requirement already satisfied: dill>=0.3 in /usr/local/lib/python3.12/dist-packages (from qiskit) (0.3.8)\n",
            "Requirement already satisfied: stevedore>=3.0.0 in /usr/local/lib/python3.12/dist-packages (from qiskit) (5.5.0)\n",
            "Requirement already satisfied: typing-extensions in /usr/local/lib/python3.12/dist-packages (from qiskit) (4.14.1)\n",
            "Requirement already satisfied: psutil>=5 in /usr/local/lib/python3.12/dist-packages (from qiskit_aer) (5.9.5)\n",
            "Requirement already satisfied: python-dateutil>=2.8.0 in /usr/local/lib/python3.12/dist-packages (from qiskit_aer) (2.9.0.post0)\n",
            "Requirement already satisfied: matplotlib>=3.3 in /usr/local/lib/python3.12/dist-packages (from qiskit[visualization]) (3.10.0)\n",
            "Requirement already satisfied: pydot in /usr/local/lib/python3.12/dist-packages (from qiskit[visualization]) (3.0.4)\n",
            "Requirement already satisfied: Pillow>=4.2.1 in /usr/local/lib/python3.12/dist-packages (from qiskit[visualization]) (11.3.0)\n",
            "Requirement already satisfied: pylatexenc>=1.4 in /usr/local/lib/python3.12/dist-packages (from qiskit[visualization]) (2.10)\n",
            "Requirement already satisfied: seaborn>=0.9.0 in /usr/local/lib/python3.12/dist-packages (from qiskit[visualization]) (0.13.2)\n",
            "Requirement already satisfied: sympy>=1.3 in /usr/local/lib/python3.12/dist-packages (from qiskit[visualization]) (1.13.3)\n",
            "Requirement already satisfied: contourpy>=1.0.1 in /usr/local/lib/python3.12/dist-packages (from matplotlib>=3.3->qiskit[visualization]) (1.3.3)\n",
            "Requirement already satisfied: cycler>=0.10 in /usr/local/lib/python3.12/dist-packages (from matplotlib>=3.3->qiskit[visualization]) (0.12.1)\n",
            "Requirement already satisfied: fonttools>=4.22.0 in /usr/local/lib/python3.12/dist-packages (from matplotlib>=3.3->qiskit[visualization]) (4.59.1)\n",
            "Requirement already satisfied: kiwisolver>=1.3.1 in /usr/local/lib/python3.12/dist-packages (from matplotlib>=3.3->qiskit[visualization]) (1.4.9)\n",
            "Requirement already satisfied: packaging>=20.0 in /usr/local/lib/python3.12/dist-packages (from matplotlib>=3.3->qiskit[visualization]) (25.0)\n",
            "Requirement already satisfied: pyparsing>=2.3.1 in /usr/local/lib/python3.12/dist-packages (from matplotlib>=3.3->qiskit[visualization]) (3.2.3)\n",
            "Requirement already satisfied: six>=1.5 in /usr/local/lib/python3.12/dist-packages (from python-dateutil>=2.8.0->qiskit_aer) (1.17.0)\n",
            "Requirement already satisfied: pandas>=1.2 in /usr/local/lib/python3.12/dist-packages (from seaborn>=0.9.0->qiskit[visualization]) (2.2.2)\n",
            "Requirement already satisfied: mpmath<1.4,>=1.1.0 in /usr/local/lib/python3.12/dist-packages (from sympy>=1.3->qiskit[visualization]) (1.3.0)\n",
            "Requirement already satisfied: pytz>=2020.1 in /usr/local/lib/python3.12/dist-packages (from pandas>=1.2->seaborn>=0.9.0->qiskit[visualization]) (2025.2)\n",
            "Requirement already satisfied: tzdata>=2022.7 in /usr/local/lib/python3.12/dist-packages (from pandas>=1.2->seaborn>=0.9.0->qiskit[visualization]) (2025.2)\n"
          ]
        }
      ]
    },
    {
      "cell_type": "markdown",
      "source": [
        "#Complementary Bases & Uncertainty"
      ],
      "metadata": {
        "id": "6n3ax79U_iEO"
      }
    },
    {
      "cell_type": "markdown",
      "source": [
        "##Required Packages and functions"
      ],
      "metadata": {
        "id": "szBvcXAXcrk_"
      }
    },
    {
      "cell_type": "code",
      "source": [
        "from qiskit import *\n",
        "from qiskit_aer import AerSimulator\n",
        "from qiskit.visualization import plot_histogram\n",
        "import numpy as np\n",
        "\n",
        "def measure_circuit(qc):\n",
        "  simulator = AerSimulator()\n",
        "\n",
        "  compiled_circuit = transpile(qc, simulator)\n",
        "  compiled_circuit.measure_all()\n",
        "  result = simulator.run(compiled_circuit, shots = 1024).result()\n",
        "\n",
        "  counts = result.get_counts(compiled_circuit)\n",
        "  return counts\n",
        "\n",
        "def calculate_sd(counts, shorts = 1024):\n",
        "  n1 = counts.get('1',0)\n",
        "  p1 = n1/shorts\n",
        "  sd = np.sqrt(p1 * (1 - p1)) #Calculating Standard Devaition\n",
        "  return p1, sd\n",
        "\n",
        "\n",
        "\n"
      ],
      "metadata": {
        "id": "ZjRiXljr_fqd"
      },
      "execution_count": null,
      "outputs": []
    },
    {
      "cell_type": "markdown",
      "source": [
        "#For state |+>\n"
      ],
      "metadata": {
        "id": "i6c3T0i2ZU0g"
      }
    },
    {
      "cell_type": "markdown",
      "source": [
        "##Task 1: Z-basis measurement\n"
      ],
      "metadata": {
        "id": "amfcpP3jBn7y"
      }
    },
    {
      "cell_type": "code",
      "source": [
        "qc = QuantumCircuit(1)\n",
        "qc.h(0)\n",
        "qc.draw(\"mpl\")"
      ],
      "metadata": {
        "colab": {
          "base_uri": "https://localhost:8080/",
          "height": 127
        },
        "id": "uW7e07zpBZZk",
        "outputId": "334a4eca-fded-4040-be8a-5123430052ef"
      },
      "execution_count": null,
      "outputs": [
        {
          "output_type": "execute_result",
          "data": {
            "text/plain": [
              "<Figure size 185.453x117.056 with 1 Axes>"
            ],
            "image/png": "[encoded data removed]"
          },
          "metadata": {},
          "execution_count": 80
        }
      ]
    },
    {
      "cell_type": "code",
      "source": [
        "counts = measure_circuit(qc)\n",
        "print(\"Counts : \",counts)\n",
        "plot_histogram(counts)\n"
      ],
      "metadata": {
        "id": "7jYZFmedBubX",
        "colab": {
          "base_uri": "https://localhost:8080/",
          "height": 504
        },
        "outputId": "d3531f9f-2462-4ebf-ff6d-44000925311b"
      },
      "execution_count": null,
      "outputs": [
        {
          "output_type": "stream",
          "name": "stdout",
          "text": [
            "Counts :  {'0': 490, '1': 534}\n"
          ]
        },
        {
          "output_type": "execute_result",
          "data": {
            "text/plain": [
              "<Figure size 640x480 with 1 Axes>"
            ],
            "image/png": "[encoded data removed]"
          },
          "metadata": {},
          "execution_count": 81
        }
      ]
    },
    {
      "cell_type": "code",
      "source": [
        "#Calculate Standard deviation\n",
        "pz, standard_deviation_Zbasis = calculate_sd(counts)\n",
        "print(f\"Standard deviation Z-basis : {standard_deviation_Zbasis}\\nProbability ; {pz}\")"
      ],
      "metadata": {
        "colab": {
          "base_uri": "https://localhost:8080/"
        },
        "id": "Ztqx5k1ZLCqs",
        "outputId": "481f8b2e-0be0-4f49-cd46-76b265aac2ba"
      },
      "execution_count": null,
      "outputs": [
        {
          "output_type": "stream",
          "name": "stdout",
          "text": [
            "Standard deviation Z-basis : 0.4995382083793585\n",
            "Probability ; 0.521484375\n"
          ]
        }
      ]
    },
    {
      "cell_type": "markdown",
      "source": [
        "##Task 2: X-Basis measurement"
      ],
      "metadata": {
        "id": "i8Baeg4zN0CC"
      }
    },
    {
      "cell_type": "code",
      "source": [
        "qc2 = QuantumCircuit(1)\n",
        "qc2.h(0)\n",
        "\n",
        "qc2.h(0)\n",
        "qc.draw(\"mpl\")\n"
      ],
      "metadata": {
        "colab": {
          "base_uri": "https://localhost:8080/",
          "height": 127
        },
        "id": "RBTYIA0pNwAV",
        "outputId": "36789a60-e0a6-49c9-988b-e90fa8b37a1d"
      },
      "execution_count": null,
      "outputs": [
        {
          "output_type": "execute_result",
          "data": {
            "text/plain": [
              "<Figure size 185.453x117.056 with 1 Axes>"
            ],
            "image/png": "[encoded data removed]"
          },
          "metadata": {},
          "execution_count": 83
        }
      ]
    },
    {
      "cell_type": "code",
      "source": [
        "\n",
        "counts = measure_circuit(qc2)\n",
        "print(counts)\n",
        "plot_histogram(counts)"
      ],
      "metadata": {
        "colab": {
          "base_uri": "https://localhost:8080/",
          "height": 504
        },
        "id": "bnuYm7b_OjYQ",
        "outputId": "53a5920b-e8c0-4d80-d93c-ee3f4dd31650"
      },
      "execution_count": null,
      "outputs": [
        {
          "output_type": "stream",
          "name": "stdout",
          "text": [
            "{'0': 1024}\n"
          ]
        },
        {
          "output_type": "execute_result",
          "data": {
            "text/plain": [
              "<Figure size 640x480 with 1 Axes>"
            ],
            "image/png": "[encoded data removed]"
          },
          "metadata": {},
          "execution_count": 84
        }
      ]
    },
    {
      "cell_type": "code",
      "source": [
        "px, standard_deviation_xbasis = calculate_sd(counts)\n",
        "\n",
        "print(f\"Standard deviation X-basis : {standard_deviation_xbasis}\\nProbability : {px}\")"
      ],
      "metadata": {
        "colab": {
          "base_uri": "https://localhost:8080/"
        },
        "id": "RcHY-0yUQKHf",
        "outputId": "da92fd13-75ab-4ab4-946a-53f14d110c94"
      },
      "execution_count": null,
      "outputs": [
        {
          "output_type": "stream",
          "name": "stdout",
          "text": [
            "Standard deviation X-basis : 0.0\n",
            "Probability : 0.0\n"
          ]
        }
      ]
    },
    {
      "cell_type": "code",
      "source": [
        "print(f\"Product of standard deviations : {standard_deviation_Zbasis * standard_deviation_xbasis}\")"
      ],
      "metadata": {
        "colab": {
          "base_uri": "https://localhost:8080/"
        },
        "id": "qIE_iSzJYnhi",
        "outputId": "899012c2-06d8-4681-93ab-a95f8e075564"
      },
      "execution_count": null,
      "outputs": [
        {
          "output_type": "stream",
          "name": "stdout",
          "text": [
            "Product of standard deviations : 0.0\n"
          ]
        }
      ]
    },
    {
      "cell_type": "code",
      "source": [],
      "metadata": {
        "id": "Qz8yWBNMZC_M"
      },
      "execution_count": null,
      "outputs": []
    },
    {
      "cell_type": "markdown",
      "source": [
        "#For state |0>\n"
      ],
      "metadata": {
        "id": "zCIgLHZUZ-gI"
      }
    },
    {
      "cell_type": "markdown",
      "source": [
        "##Task 1: Z-basis Measurement"
      ],
      "metadata": {
        "id": "1RWeMl0PaC7X"
      }
    },
    {
      "cell_type": "code",
      "source": [
        "qc_0 = QuantumCircuit(1)\n",
        "qc_0.draw('mpl')\n",
        "counts = measure_circuit(qc_0)\n",
        "plot_histogram(counts)\n"
      ],
      "metadata": {
        "colab": {
          "base_uri": "https://localhost:8080/",
          "height": 487
        },
        "id": "I5dp0RGDaII7",
        "outputId": "3557c913-8c69-4982-8dbd-533d660f0e88"
      },
      "execution_count": null,
      "outputs": [
        {
          "output_type": "execute_result",
          "data": {
            "text/plain": [
              "<Figure size 640x480 with 1 Axes>"
            ],
            "image/png": "[encoded data removed]"
          },
          "metadata": {},
          "execution_count": 87
        }
      ]
    },
    {
      "cell_type": "code",
      "source": [
        "pz, standard_deviation_Zbasis = calculate_sd(counts)\n",
        "print(f\"Standard deviation Z-basis : {standard_deviation_Zbasis}\\nProbability : {pz}\")"
      ],
      "metadata": {
        "colab": {
          "base_uri": "https://localhost:8080/"
        },
        "id": "nQcTJmdnaUlZ",
        "outputId": "cd371dd6-83f3-4a62-94aa-dba7c6963090"
      },
      "execution_count": null,
      "outputs": [
        {
          "output_type": "stream",
          "name": "stdout",
          "text": [
            "Standard deviation Z-basis : 0.0\n",
            "Probability : 0.0\n"
          ]
        }
      ]
    },
    {
      "cell_type": "markdown",
      "source": [
        "##Task 2: X-basis Measurement"
      ],
      "metadata": {
        "id": "7BYq8Zu2c4IV"
      }
    },
    {
      "cell_type": "code",
      "source": [
        "qc_0.h(0)\n",
        "counts = measure_circuit(qc_0)\n",
        "plot_histogram(counts)"
      ],
      "metadata": {
        "colab": {
          "base_uri": "https://localhost:8080/",
          "height": 487
        },
        "id": "XApofR5Hat2J",
        "outputId": "987c3513-b1ae-48ef-839d-89ea52cd05f5"
      },
      "execution_count": null,
      "outputs": [
        {
          "output_type": "execute_result",
          "data": {
            "text/plain": [
              "<Figure size 640x480 with 1 Axes>"
            ],
            "image/png": "[encoded data removed]"
          },
          "metadata": {},
          "execution_count": 89
        }
      ]
    },
    {
      "cell_type": "code",
      "source": [
        "px, standard_deviation_xbasis = calculate_sd(counts)\n",
        "print(f\"Standard deviation x basis : {standard_deviation_xbasis}\\nProbability : {px}\")"
      ],
      "metadata": {
        "colab": {
          "base_uri": "https://localhost:8080/"
        },
        "id": "j5JVv0vUbFv-",
        "outputId": "9974ac32-6cef-432b-e1a7-b26ed61dcc7f"
      },
      "execution_count": null,
      "outputs": [
        {
          "output_type": "stream",
          "name": "stdout",
          "text": [
            "Standard deviation x basis : 0.4999656665458233\n",
            "Probability : 0.505859375\n"
          ]
        }
      ]
    },
    {
      "cell_type": "code",
      "source": [
        "print(f\"Product of standard deviations = {standard_deviation_Zbasis * standard_deviation_xbasis}\")"
      ],
      "metadata": {
        "colab": {
          "base_uri": "https://localhost:8080/"
        },
        "id": "phvS7pSCbRnl",
        "outputId": "d84a05bd-c88d-42a7-d97b-ca0c6165196c"
      },
      "execution_count": null,
      "outputs": [
        {
          "output_type": "stream",
          "name": "stdout",
          "text": [
            "Product of standard deviations = 0.0\n"
          ]
        }
      ]
    },
    {
      "cell_type": "code",
      "source": [],
      "metadata": {
        "id": "NCU0bSp9bhaO"
      },
      "execution_count": null,
      "outputs": []
    }
  ]
}